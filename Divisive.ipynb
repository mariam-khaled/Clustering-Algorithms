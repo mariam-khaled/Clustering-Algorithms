{
 "cells": [
  {
   "cell_type": "markdown",
   "id": "d1d67be8",
   "metadata": {},
   "source": [
    "### Imports"
   ]
  },
  {
   "cell_type": "code",
   "execution_count": 1,
   "id": "bf3da49f",
   "metadata": {},
   "outputs": [],
   "source": [
    "import numpy as np\n",
    "import pandas as pd"
   ]
  },
  {
   "cell_type": "markdown",
   "id": "8a5d08a6",
   "metadata": {},
   "source": [
    "### Calculate average dissimilarity between element and the other elements in the same cluster "
   ]
  },
  {
   "cell_type": "code",
   "execution_count": 2,
   "id": "e1239b41",
   "metadata": {},
   "outputs": [],
   "source": [
    "def avg_dissim_within_group_element(ele, element_list):\n",
    "    max_diameter = -np.inf\n",
    "    sum_dissm = 0\n",
    "    for i in element_list:\n",
    "        sum_dissm += dissimilarity_matrix[ele][i]   \n",
    "        if( dissimilarity_matrix[ele][i]  > max_diameter):\n",
    "            max_diameter = dissimilarity_matrix[ele][i]\n",
    "    if(len(element_list)>1):\n",
    "        avg = sum_dissm/(len(element_list)-1)\n",
    "    else: \n",
    "        avg = 0\n",
    "    return avg"
   ]
  },
  {
   "cell_type": "markdown",
   "id": "a234b792",
   "metadata": {},
   "source": [
    "### Calculate average dissimilarity between element and the other elements from other cluster"
   ]
  },
  {
   "cell_type": "code",
   "execution_count": 3,
   "id": "83de9c02",
   "metadata": {},
   "outputs": [],
   "source": [
    "def avg_dissim_across_group_element(ele, main_list, splinter_list):\n",
    "    if len(splinter_list) == 0:\n",
    "        return 0\n",
    "    sum_dissm = 0\n",
    "    for j in splinter_list:\n",
    "        sum_dissm = sum_dissm + dissimilarity_matrix[ele][j]\n",
    "    avg = sum_dissm/(len(splinter_list)) \n",
    "    return avg"
   ]
  },
  {
   "cell_type": "markdown",
   "id": "ed4897cb",
   "metadata": {},
   "source": [
    "### Get index of most dissimilar object  "
   ]
  },
  {
   "cell_type": "code",
   "execution_count": 4,
   "id": "acbb2ca3",
   "metadata": {},
   "outputs": [],
   "source": [
    "def splinter(main_list, splinter_group):\n",
    "    most_dissm_object_value = -np.inf\n",
    "    most_dissm_object_index = None\n",
    "    for ele in main_list:\n",
    "        x = avg_dissim_within_group_element(ele, main_list)\n",
    "        y = avg_dissim_across_group_element(ele, main_list, splinter_group)\n",
    "        diff= x - y\n",
    "        if diff > most_dissm_object_value:\n",
    "            most_dissm_object_value = diff\n",
    "            most_dissm_object_index = ele\n",
    "    if(most_dissm_object_value>0):\n",
    "        return  (most_dissm_object_index, 1)\n",
    "    else:\n",
    "        return (-1, -1)"
   ]
  },
  {
   "cell_type": "markdown",
   "id": "9e41d40f",
   "metadata": {},
   "source": [
    "### Return divided clusters"
   ]
  },
  {
   "cell_type": "code",
   "execution_count": 5,
   "id": "80bfcabd",
   "metadata": {},
   "outputs": [],
   "source": [
    "# return divided clusters\n",
    "def split(element_list):\n",
    "    main_list = element_list\n",
    "    splinter_group = []    \n",
    "    (most_dissm_object_index,flag) = splinter(main_list, splinter_group)\n",
    "    while(flag > 0):\n",
    "        main_list.remove(most_dissm_object_index)\n",
    "        splinter_group.append(most_dissm_object_index)\n",
    "        (most_dissm_object_index,flag) = splinter(element_list, splinter_group)\n",
    "    \n",
    "    return (main_list, splinter_group)"
   ]
  },
  {
   "cell_type": "markdown",
   "id": "4e661b81",
   "metadata": {},
   "source": [
    "### Get cluster of maximum diameter"
   ]
  },
  {
   "cell_type": "code",
   "execution_count": 6,
   "id": "509bb3b5",
   "metadata": {},
   "outputs": [],
   "source": [
    "def max_diameter(cluster_list):\n",
    "    max_diameter_cluster_index = None\n",
    "    max_diameter_cluster_value = -np.inf\n",
    "    index = 0\n",
    "    for element_list in cluster_list:\n",
    "        for i in element_list:\n",
    "            for j in element_list:\n",
    "                if dissimilarity_matrix[i][j]  > max_diameter_cluster_value:\n",
    "                    max_diameter_cluster_value = dissimilarity_matrix[i][j]\n",
    "                    max_diameter_cluster_index = index\n",
    "        \n",
    "        index +=1\n",
    "    \n",
    "    if(max_diameter_cluster_value <= 0):\n",
    "        return -1\n",
    "    \n",
    "    return max_diameter_cluster_index"
   ]
  },
  {
   "cell_type": "markdown",
   "id": "21e353df",
   "metadata": {},
   "source": [
    "### Divisive clustering"
   ]
  },
  {
   "cell_type": "code",
   "execution_count": 8,
   "id": "4492b680",
   "metadata": {},
   "outputs": [
    {
     "name": "stdout",
     "output_type": "stream",
     "text": [
      "1 [['a', 'b', 'c', 'd', 'e']]\n",
      "2 [['c', 'd', 'e'], ['a', 'b']]\n",
      "3 [['a', 'b'], ['d', 'e'], ['c']]\n",
      "4 [['a', 'b'], ['c'], ['e'], ['d']]\n",
      "5 [['c'], ['e'], ['d'], ['b'], ['a']]\n"
     ]
    }
   ],
   "source": [
    "# Main driver\n",
    "num_clusters = 0\n",
    "mat = np.array([[0,2,6,10,9],[2,0,5,9,8],[6,5,0,4,5],[10,9,4,0,3],[9,8,5,3,0]])\n",
    "all_elements = ['a','b','c','d','e']\n",
    "dissimilarity_matrix = pd.DataFrame(mat,index=all_elements, columns=all_elements)\n",
    "\n",
    "# Divisive clustering\n",
    "current_clusters = ([all_elements])\n",
    "level = 1\n",
    "index = 0\n",
    "\n",
    "while(index!=-1):\n",
    "    \n",
    "    print(level, current_clusters)\n",
    "    (a_clstr, b_clstr) = split(current_clusters[index])\n",
    "    del current_clusters[index]\n",
    "    current_clusters.append(a_clstr)\n",
    "    current_clusters.append(b_clstr)\n",
    "    index = max_diameter(current_clusters)\n",
    "    level +=1\n",
    "\n",
    "\n",
    "print(level, current_clusters)"
   ]
  },
  {
   "cell_type": "code",
   "execution_count": 10,
   "id": "191814c3",
   "metadata": {},
   "outputs": [
    {
     "name": "stdout",
     "output_type": "stream",
     "text": [
      "1 [['a', 'b', 'c', 'd']]\n",
      "2 [['a', 'b'], ['d', 'c']]\n",
      "3 [['a', 'b'], ['c'], ['d']]\n",
      "4 [['c'], ['d'], ['b'], ['a']]\n"
     ]
    }
   ],
   "source": [
    "# Main driver\n",
    "num_clusters = 0\n",
    "mat = np.array([[0,2,6,10],[2,0,5,9],[6,5,0,4],[10,9,4,0]])\n",
    "all_elements = ['a','b','c','d']\n",
    "dissimilarity_matrix = pd.DataFrame(mat,index=all_elements, columns=all_elements)\n",
    "\n",
    "# Divisive clustering\n",
    "current_clusters = ([all_elements])\n",
    "level = 1\n",
    "index = 0\n",
    "\n",
    "while(index!=-1):\n",
    "    \n",
    "    print(level, current_clusters)\n",
    "    (a_clstr, b_clstr) = split(current_clusters[index])\n",
    "    del current_clusters[index]\n",
    "    current_clusters.append(a_clstr)\n",
    "    current_clusters.append(b_clstr)\n",
    "    index = max_diameter(current_clusters)\n",
    "    level +=1\n",
    "\n",
    "\n",
    "print(level, current_clusters)"
   ]
  },
  {
   "cell_type": "code",
   "execution_count": null,
   "id": "2090dfe7",
   "metadata": {},
   "outputs": [],
   "source": []
  }
 ],
 "metadata": {
  "kernelspec": {
   "display_name": "Python 3",
   "language": "python",
   "name": "python3"
  },
  "language_info": {
   "codemirror_mode": {
    "name": "ipython",
    "version": 3
   },
   "file_extension": ".py",
   "mimetype": "text/x-python",
   "name": "python",
   "nbconvert_exporter": "python",
   "pygments_lexer": "ipython3",
   "version": "3.8.10"
  }
 },
 "nbformat": 4,
 "nbformat_minor": 5
}
